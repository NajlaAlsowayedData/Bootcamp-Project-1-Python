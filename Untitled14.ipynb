{
 "cells": [
  {
   "cell_type": "code",
   "execution_count": 1,
   "id": "b223fa03",
   "metadata": {},
   "outputs": [
    {
     "name": "stdout",
     "output_type": "stream",
     "text": [
      "Requirement already satisfied: tabulate in c:\\users\\alsow\\python\\lib\\site-packages (0.8.10)\n",
      "Note: you may need to restart the kernel to use updated packages.\n"
     ]
    }
   ],
   "source": [
    "pip install tabulate"
   ]
  },
  {
   "cell_type": "code",
   "execution_count": null,
   "id": "76ce06bb",
   "metadata": {},
   "outputs": [
    {
     "name": "stdout",
     "output_type": "stream",
     "text": [
      "Here the table of events in Riyadh : \n",
      "Welcome to Riyadh Season, Hope you find event suits you! \n",
      " \n",
      "Event Name           City of Event    Openinig Time\n",
      "-------------------  ---------------  ---------------\n",
      "1.Winter Wonderland  Riyadh           4pm - 12am\n",
      "2.Riyadh boulevard   Riyadh           4pm - 2am\n",
      "3.AlMurabaa          Riyadh           4pm - 2am\n",
      "Please enter the number of an event to view the details: 2\n",
      "Summary of Event: Riyadh Boulevard, where endless fun destinations can be found in one place. In addition to the luxury shopping places where you can obtain pieces from the finest stores of international brands to your own closet, along with dishes that amaze your senses with flavours of local and international cuisine. \n",
      " --------------------- \n",
      "The prices for a ticket in this event is 50 SR for all days. \n",
      "Do you want to reverse this event? yes\n",
      "How many tickets do you want reserve? 1\n",
      "The prices of whole tickets is:  50\n",
      "The Tickets Added to your cart, you buied 1  Tickets for Riyadh Boulevard Event. \n",
      "Here the table of events in Riyadh : \n",
      "Welcome to Riyadh Season, Hope you find event suits you! \n",
      " \n",
      "Event Name           City of Event    Openinig Time\n",
      "-------------------  ---------------  ---------------\n",
      "1.Winter Wonderland  Riyadh           4pm - 12am\n",
      "2.Riyadh boulevard   Riyadh           4pm - 2am\n",
      "3.AlMurabaa          Riyadh           4pm - 2am\n"
     ]
    }
   ],
   "source": [
    "from tabulate import tabulate\n",
    "Price1 = 50\n",
    "Price2 = 50\n",
    "Price3= 120\n",
    "\n",
    "def EventSummary (EnteredAnswer2):\n",
    "    if EnteredAnswer2 == 1 :\n",
    "        print(\"Summary of Event: Riyadh hosts Winter Wonderland, the biggest theme park in its third season, combining rides & adventures in a unique experience for all ages. More than 80 different experiences including thrill, family, kids rides, and different characters & musical shows. \")\n",
    "    elif EnteredAnswer2 == 2 : \n",
    "        print(\"Summary of Event: Riyadh Boulevard, where endless fun destinations can be found in one place. In addition to the luxury shopping places where you can obtain pieces from the finest stores of international brands to your own closet, along with dishes that amaze your senses with flavours of local and international cuisine. \")\n",
    "    elif EnteredAnswer2 == 3 : \n",
    "        print(\"Summary of Event: AlMurabaa is one of the annual zones of the Riyadh Season entertainment festival held at the National Museum Park of King Abdulaziz Historical Center in the al-Murabba neighborhood of Riyadh,it features several seasonal restaurants and cafes with international cuisines. \")\n",
    "    else : \n",
    "        print(\"Sorry, We couldn't find what you looking for! \")\n",
    "\n",
    "        \n",
    "        \n",
    "def EventPrices (EnteredAnswer2):\n",
    "    if EnteredAnswer2 == 1 :\n",
    "        print(\" --------------------- \")\n",
    "        print(\"The prices for a ticket in this event is 50 SR for all days. \")\n",
    "    elif EnteredAnswer2 == 2 :\n",
    "        print(\" --------------------- \")\n",
    "        print(\"The prices for a ticket in this event is 50 SR for all days. \")\n",
    "        \n",
    "    elif EnteredAnswer2 == 3 :\n",
    "        print(\" --------------------- \")\n",
    "        print(\"The prices for a ticket in this event is 120 SR for all days.\")\n",
    "    else :\n",
    "        return 0\n",
    "\n",
    "def EventReservations () :\n",
    "    EnteredAnswer3 = input(\"Do you want to reverse this event? \")\n",
    "    if EnteredAnswer3 == 'yes' :\n",
    "        TicketNumbers= int(input(\"How many tickets do you want reserve? \"))\n",
    "        if EnteredAnswer2 == 1 :\n",
    "                TicketPrices = TicketNumbers * Price1\n",
    "                print (\"The prices of whole tickets is: \" , TicketPrices)\n",
    "                print(\"The Tickets Added to your cart, you buied\" , TicketNumbers , \" Tickets for Winter Wonderland Event. \")\n",
    "        \n",
    "        elif EnteredAnswer2 == 2 : \n",
    "                TicketPrices = TicketNumbers * Price2\n",
    "                print (\"The prices of whole tickets is: \" , TicketPrices)\n",
    "                print(\"The Tickets Added to your cart, you buied\" , TicketNumbers , \" Tickets for Riyadh Boulevard Event. \") \n",
    "            \n",
    "        elif EnteredAnswer2 == 3 :\n",
    "                TicketPrices = TicketNumbers * Price3\n",
    "                print (\"The prices of whole tickets is: \" , TicketPrices)\n",
    "                print(\"The Tickets Added to your cart, you buied \" , TicketNumbers ,\" Tickets for AlMurabaa Event. \" )\n",
    "\n",
    "        else : \n",
    "                Starts ()\n",
    "                \n",
    "    else :\n",
    "        return 0\n",
    "    \n",
    "def Starts ():\n",
    "    print(\"Here the table of events in Riyadh : \")\n",
    "    print(\"Welcome to Riyadh Season, Hope you find event suits you! \")\n",
    "    print(\" \")\n",
    "    Events =[[\"1.Winter Wonderland\", \"Riyadh\", \"4pm - 12am \"],\n",
    "         [\"2.Riyadh boulevard\", \"Riyadh\" , \"4pm - 2am \"],\n",
    "         [\"3.AlMurabaa\", \"Riyadh\" , \"4pm - 2am\"]]\n",
    "\n",
    "    ColumnNames = [\"Event Name\", \"City of Event\", \"Openinig Time\"]\n",
    "    print(tabulate(Events, headers=ColumnNames))\n",
    "\n",
    "while True : \n",
    "    Starts ()\n",
    "    EnteredAnswer2 = int(input(\"Please enter the number of an event to view the details: \" ))\n",
    "    EventSummary(EnteredAnswer2)\n",
    "    EventPrices(EnteredAnswer2)\n",
    "    EventReservations() \n",
    "    \n",
    "\n",
    "        \n",
    "    \n",
    "              \n",
    "            \n"
   ]
  },
  {
   "cell_type": "code",
   "execution_count": 1,
   "id": "a2a2073f",
   "metadata": {},
   "outputs": [],
   "source": [
    " # print(tabulate(Events, headers=col_names, tablefmt=\"grid\", showindex=\"always\"))"
   ]
  },
  {
   "cell_type": "code",
   "execution_count": null,
   "id": "5dc132b2",
   "metadata": {},
   "outputs": [],
   "source": []
  },
  {
   "cell_type": "code",
   "execution_count": null,
   "id": "9092c475",
   "metadata": {},
   "outputs": [],
   "source": []
  },
  {
   "cell_type": "code",
   "execution_count": null,
   "id": "20077160",
   "metadata": {},
   "outputs": [],
   "source": []
  }
 ],
 "metadata": {
  "kernelspec": {
   "display_name": "Python 3 (ipykernel)",
   "language": "python",
   "name": "python3"
  },
  "language_info": {
   "codemirror_mode": {
    "name": "ipython",
    "version": 3
   },
   "file_extension": ".py",
   "mimetype": "text/x-python",
   "name": "python",
   "nbconvert_exporter": "python",
   "pygments_lexer": "ipython3",
   "version": "3.10.9"
  }
 },
 "nbformat": 4,
 "nbformat_minor": 5
}
